{
 "cells": [
  {
   "cell_type": "markdown",
   "metadata": {},
   "source": [
    "# Assignment-4: Rohitha Gutta"
   ]
  },
  {
   "cell_type": "code",
   "execution_count": 1,
   "metadata": {},
   "outputs": [],
   "source": [
    "#Print all the outputs in a cell\n",
    "from IPython.core.interactiveshell import InteractiveShell\n",
    "InteractiveShell.ast_node_interactivity = \"all\""
   ]
  },
  {
   "cell_type": "code",
   "execution_count": 2,
   "metadata": {},
   "outputs": [],
   "source": [
    "# import statements\n",
    "from functools import reduce\n",
    "from pyspark.sql.functions import col, lit, when\n",
    "from graphframes import *"
   ]
  },
  {
   "cell_type": "code",
   "execution_count": 3,
   "metadata": {},
   "outputs": [],
   "source": [
    "# read edges of graph and create an graph_edges dataframe\n",
    "graph_edges = spark.read.option(\"header\", \"true\").csv(\"graph_edges.txt\")"
   ]
  },
  {
   "cell_type": "code",
   "execution_count": 4,
   "metadata": {},
   "outputs": [
    {
     "name": "stdout",
     "output_type": "stream",
     "text": [
      "+-----------+-------+-----+\n",
      "|edge_weight|from_id|to_id|\n",
      "+-----------+-------+-----+\n",
      "|          0|      5|   15|\n",
      "|          1|     18|    8|\n",
      "|          2|      6|    1|\n",
      "|          3|      0|   10|\n",
      "|          4|      2|    4|\n",
      "+-----------+-------+-----+\n",
      "only showing top 5 rows\n",
      "\n"
     ]
    }
   ],
   "source": [
    "# display edges dataframe\n",
    "graph_edges.show(5)"
   ]
  },
  {
   "cell_type": "code",
   "execution_count": 5,
   "metadata": {},
   "outputs": [
    {
     "data": {
      "text/plain": [
       "51"
      ]
     },
     "execution_count": 5,
     "metadata": {},
     "output_type": "execute_result"
    }
   ],
   "source": [
    "# initial number of edges in the graph\n",
    "graph_edges.count()"
   ]
  },
  {
   "cell_type": "code",
   "execution_count": 6,
   "metadata": {},
   "outputs": [],
   "source": [
    "#cleaned the edges to ignore unwanted columns and renamed the columns names\n",
    "cleaned_graph_edges = graph_edges.selectExpr(\"from_id as src\", \"to_id as dst\")"
   ]
  },
  {
   "cell_type": "code",
   "execution_count": 7,
   "metadata": {},
   "outputs": [
    {
     "name": "stdout",
     "output_type": "stream",
     "text": [
      "+---+---+\n",
      "|src|dst|\n",
      "+---+---+\n",
      "|  5| 15|\n",
      "| 18|  8|\n",
      "|  6|  1|\n",
      "|  0| 10|\n",
      "|  2|  4|\n",
      "+---+---+\n",
      "only showing top 5 rows\n",
      "\n"
     ]
    }
   ],
   "source": [
    "cleaned_graph_edges.show(5)"
   ]
  },
  {
   "cell_type": "code",
   "execution_count": 8,
   "metadata": {},
   "outputs": [],
   "source": [
    "# read vertices of graph and create an graph_vertices dataframe\n",
    "graph_vertices = spark.read.option(\"header\", \"true\").csv(\"graph_vertices.txt\")"
   ]
  },
  {
   "cell_type": "code",
   "execution_count": 9,
   "metadata": {},
   "outputs": [
    {
     "name": "stdout",
     "output_type": "stream",
     "text": [
      "+---------+\n",
      "|vertex_id|\n",
      "+---------+\n",
      "|        0|\n",
      "|        1|\n",
      "|        2|\n",
      "|        3|\n",
      "|        4|\n",
      "+---------+\n",
      "only showing top 5 rows\n",
      "\n"
     ]
    }
   ],
   "source": [
    "# display vertices dataframe\n",
    "graph_vertices.show(5)"
   ]
  },
  {
   "cell_type": "code",
   "execution_count": 10,
   "metadata": {},
   "outputs": [
    {
     "data": {
      "text/plain": [
       "56"
      ]
     },
     "execution_count": 10,
     "metadata": {},
     "output_type": "execute_result"
    }
   ],
   "source": [
    "# number of vertices in the graph\n",
    "graph_vertices.count()"
   ]
  },
  {
   "cell_type": "code",
   "execution_count": 11,
   "metadata": {},
   "outputs": [],
   "source": [
    "#renamed the column name in graph_vertices dataframe\n",
    "cleaned_graph_vertices = graph_vertices.selectExpr(\"vertex_id as id\")"
   ]
  },
  {
   "cell_type": "code",
   "execution_count": 12,
   "metadata": {},
   "outputs": [],
   "source": [
    "#to convert directed graph to undirected\n",
    "#make a new copy of given edges of grapfh such that the source and destination columns are swaped\n",
    "graph_edges_new = cleaned_graph_edges.selectExpr( \"src as dst\", \"dst as src\")"
   ]
  },
  {
   "cell_type": "code",
   "execution_count": 13,
   "metadata": {},
   "outputs": [],
   "source": [
    "#to change the order of columns in graph_edges_new to make it suitable to apply unionAll function\n",
    "cleaned_graph_edges_new=graph_edges_new.select(\"src\",\"dst\")"
   ]
  },
  {
   "cell_type": "code",
   "execution_count": 14,
   "metadata": {},
   "outputs": [],
   "source": [
    "#applied unionAll function to make graphs undirected\n",
    "undirected_graph_edges = cleaned_graph_edges.unionAll(cleaned_graph_edges_new)"
   ]
  },
  {
   "cell_type": "code",
   "execution_count": 15,
   "metadata": {},
   "outputs": [
    {
     "data": {
      "text/plain": [
       "102"
      ]
     },
     "execution_count": 15,
     "metadata": {},
     "output_type": "execute_result"
    }
   ],
   "source": [
    "#number of edges in the graph after making graph undirected\n",
    "undirected_graph_edges.count()"
   ]
  },
  {
   "cell_type": "code",
   "execution_count": 16,
   "metadata": {},
   "outputs": [],
   "source": [
    "#create a graphframe\n",
    "final_undirected_graph = GraphFrame(cleaned_graph_vertices, undirected_graph_edges)"
   ]
  },
  {
   "cell_type": "code",
   "execution_count": 17,
   "metadata": {},
   "outputs": [],
   "source": [
    "#motif function to find the triangles in the given graphframe\n",
    "triangles_motifs = final_undirected_graph.find(\"(a)-[]->(b); (b)-[]->(c); (c)-[]->(a)\")"
   ]
  },
  {
   "cell_type": "code",
   "execution_count": 18,
   "metadata": {},
   "outputs": [
    {
     "name": "stdout",
     "output_type": "stream",
     "text": [
      "+----+----+----+\n",
      "|   a|   b|   c|\n",
      "+----+----+----+\n",
      "| [5]|[15]|[31]|\n",
      "|[18]| [8]|[22]|\n",
      "|[17]| [8]|[22]|\n",
      "|[22]| [8]|[17]|\n",
      "|[22]| [8]|[18]|\n",
      "|[28]| [7]|[39]|\n",
      "|[31]|[15]| [5]|\n",
      "|[32]|[30]|[42]|\n",
      "|[39]| [7]|[28]|\n",
      "|[39]|[28]| [7]|\n",
      "|[42]|[32]|[30]|\n",
      "| [5]|[31]|[15]|\n",
      "|[30]|[42]|[32]|\n",
      "|[17]|[22]| [8]|\n",
      "|[18]|[22]| [8]|\n",
      "|[50]|[51]|[52]|\n",
      "|[51]|[52]|[50]|\n",
      "|[50]|[52]|[51]|\n",
      "|[71]|[72]|[73]|\n",
      "|[71]|[73]|[72]|\n",
      "+----+----+----+\n",
      "only showing top 20 rows\n",
      "\n"
     ]
    }
   ],
   "source": [
    "triangles_motifs.show()"
   ]
  },
  {
   "cell_type": "code",
   "execution_count": 19,
   "metadata": {},
   "outputs": [],
   "source": [
    "#to find unique triangle in a graph\n",
    "#covert output of motif function which is dataframe into a lists of list\n",
    "triangle_list = [list(row) for row in triangles_motifs.collect()]"
   ]
  },
  {
   "cell_type": "code",
   "execution_count": 20,
   "metadata": {},
   "outputs": [],
   "source": [
    "#function that returns unique traingles\n",
    "def findUniqueTriangle(triangle_list):\n",
    "    int_triangle_list=list()\n",
    "    unique_triangle=list()\n",
    "    \n",
    "    for triangle in triangle_list:\n",
    "        int_triangle_list.append([int(triangle[0][0]),int(triangle[1][0]), int(triangle[2][0])])\n",
    "    \n",
    "    for i in int_triangle_list:\n",
    "        i.sort()\n",
    "    \n",
    "    for triangle in int_triangle_list:\n",
    "        if triangle not in unique_triangle:\n",
    "            unique_triangle.append(triangle)\n",
    "    \n",
    "    return unique_triangle"
   ]
  },
  {
   "cell_type": "code",
   "execution_count": 21,
   "metadata": {},
   "outputs": [
    {
     "data": {
      "text/plain": [
       "[[5, 15, 31],\n",
       " [8, 18, 22],\n",
       " [8, 17, 22],\n",
       " [7, 28, 39],\n",
       " [30, 32, 42],\n",
       " [50, 51, 52],\n",
       " [71, 72, 73]]"
      ]
     },
     "execution_count": 21,
     "metadata": {},
     "output_type": "execute_result"
    }
   ],
   "source": [
    "#unique triangles OUTPUT:\n",
    "findUniqueTriangle(triangle_list)"
   ]
  },
  {
   "cell_type": "code",
   "execution_count": null,
   "metadata": {},
   "outputs": [],
   "source": []
  }
 ],
 "metadata": {
  "kernelspec": {
   "display_name": "Python 3",
   "language": "python",
   "name": "python3"
  },
  "language_info": {
   "codemirror_mode": {
    "name": "ipython",
    "version": 3
   },
   "file_extension": ".py",
   "mimetype": "text/x-python",
   "name": "python",
   "nbconvert_exporter": "python",
   "pygments_lexer": "ipython3",
   "version": "3.7.0"
  }
 },
 "nbformat": 4,
 "nbformat_minor": 2
}
